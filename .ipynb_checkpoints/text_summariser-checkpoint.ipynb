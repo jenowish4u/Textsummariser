{
 "cells": [
  {
   "cell_type": "code",
   "execution_count": 1,
   "id": "7144b019-8e6c-49a8-994d-14d2986c03e6",
   "metadata": {},
   "outputs": [],
   "source": [
    "import torch\n",
    "from transformers import BartForConditionalGeneration, BartTokenizer"
   ]
  },
  {
   "cell_type": "code",
   "execution_count": null,
   "id": "0f97c14a-c7df-43ea-8abc-a7983d99cf1a",
   "metadata": {},
   "outputs": [],
   "source": [
    "# Load the tokenizer and model\n",
    "tokenizer = BartTokenizer.from_pretrained('facebook/bart-large-cnn')\n",
    "model = BartForConditionalGeneration.from_pretrained('facebook/bart-large-cnn')"
   ]
  },
  {
   "cell_type": "code",
   "execution_count": 3,
   "id": "0aaf57c3-2523-4176-9c4a-4b21bab4538f",
   "metadata": {},
   "outputs": [
    {
     "name": "stdout",
     "output_type": "stream",
     "text": [
      "Summary:\n",
      " India and China agreed on Monday to resume direct passenger flights between the two countries. Passenger flights between were initially halted at the start of the COVID-19 pandemic. Tensions have thawed in recent months thanks to high-level meetings between the governments.\n"
     ]
    }
   ],
   "source": [
    "# Load your document\n",
    "with open('text.txt', 'r') as file:\n",
    "    document = file.read()\n",
    "\n",
    "\n",
    "\n",
    "# Tokenize the document\n",
    "inputs = tokenizer.encode(\"summarize: \" + document, return_tensors='pt', max_length=1024, truncation=True)\n",
    "\n",
    "# Generate the summary\n",
    "summary_ids = model.generate(inputs, max_length=150, min_length=40, length_penalty=2.0, num_beams=4, early_stopping=True)\n",
    "summary = tokenizer.decode(summary_ids[0], skip_special_tokens=True)\n",
    "\n",
    "print(\"Summary:\\n\", summary)"
   ]
  },
  {
   "cell_type": "code",
   "execution_count": null,
   "id": "37e90813-1d06-4a47-83d6-bbde970f8769",
   "metadata": {},
   "outputs": [],
   "source": []
  }
 ],
 "metadata": {
  "kernelspec": {
   "display_name": "Python 3 (ipykernel)",
   "language": "python",
   "name": "python3"
  },
  "language_info": {
   "codemirror_mode": {
    "name": "ipython",
    "version": 3
   },
   "file_extension": ".py",
   "mimetype": "text/x-python",
   "name": "python",
   "nbconvert_exporter": "python",
   "pygments_lexer": "ipython3",
   "version": "3.10.11"
  }
 },
 "nbformat": 4,
 "nbformat_minor": 5
}
